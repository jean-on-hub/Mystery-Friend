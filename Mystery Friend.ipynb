{
 "cells": [
  {
   "cell_type": "code",
   "execution_count": 1,
   "id": "278749eb",
   "metadata": {},
   "outputs": [
    {
     "name": "stdout",
     "output_type": "stream",
     "text": [
      "\n",
      "The history of human growth and development is at the same time the\n",
      "history of the terrible struggle of every new idea heralding the\n",
      "approach of a brighter dawn\n",
      "\n",
      "When the news of the discovery of the North Pole, by Commander Peary,\n",
      "was first sent to the world, a distinguished citizen of New York City,\n",
      "well versed in the affairs of the Peary Arctic Club, made the statement,\n",
      "that he was sure that Matt Henson had been with Commander Peary on the\n",
      "day of the discovery\n",
      "\n",
      "The Importance of Names\n",
      "\n",
      "  \"What's in a name?  That which we call a rose\n",
      "  By any other name would smell as sweet.\"\n",
      "\n",
      "\n",
      "Notwithstanding these lines, I maintain that the selection of names is\n",
      "important\n",
      "[[1.10199321e-02 9.88977727e-01 2.34054697e-06]]\n",
      "The postcard was from 2!\n"
     ]
    }
   ],
   "source": [
    "from goldman_emma_raw import goldman_docs\n",
    "from henson_matthew_raw import henson_docs\n",
    "from wu_tingfang_raw import wu_docs\n",
    "# import sklearn modules here:\n",
    "from sklearn.feature_extraction.text import CountVectorizer\n",
    "from sklearn.naive_bayes import MultinomialNB\n",
    "# Setting up the combined list of friends' writing samples\n",
    "friends_docs = goldman_docs + henson_docs + wu_docs\n",
    "# Setting up labels for your three friends\n",
    "friends_labels = [1] * 154 + [2] * 141 + [3] * 166\n",
    "\n",
    "# Print out a document from each friend:\n",
    "print(goldman_docs[0])\n",
    "print(henson_docs[0])\n",
    "print(wu_docs[0])\n",
    "\n",
    "\n",
    "mystery_postcard = \"\"\"\n",
    "My friend,\n",
    "From the 10th of July to the 13th, a fierce storm raged, clouds of\n",
    "freeing spray broke over the ship, incasing her in a coat of icy mail,\n",
    "and the tempest forced all of the ice out of the lower end of the\n",
    "channel and beyond as far as the eye could see, but the _Roosevelt_\n",
    "still remained surrounded by ice.\n",
    "Hope to see you soon.\n",
    "\"\"\"\n",
    "\n",
    "# Create bow_vectorizer:\n",
    "bow_vectorizer = CountVectorizer()\n",
    "# Define friends_vectors:\n",
    "friends_vectors= bow_vectorizer.fit_transform(friends_docs) \n",
    "# Define mystery_vector: \n",
    "mystery_vector = bow_vectorizer.transform([mystery_postcard])\n",
    "\n",
    "# Define friends_classifier:\n",
    "friends_classifier = MultinomialNB()\n",
    "# Train the classifier:\n",
    "friends_classifier.fit(friends_vectors,friends_labels)\n",
    "# Change predictions:\n",
    "predictions = friends_classifier.predict(mystery_vector)\n",
    "prediction = friends_classifier.predict_proba(mystery_vector)\n",
    "print(prediction)\n",
    "mystery_friend = predictions[0] if predictions[0] else \"someone else\"\n",
    "\n",
    "# Uncomment the print statement:\n",
    "print(\"The postcard was from {}!\".format(mystery_friend))"
   ]
  },
  {
   "cell_type": "code",
   "execution_count": null,
   "id": "957c377e",
   "metadata": {},
   "outputs": [],
   "source": []
  }
 ],
 "metadata": {
  "kernelspec": {
   "display_name": "Python 3",
   "language": "python",
   "name": "python3"
  },
  "language_info": {
   "codemirror_mode": {
    "name": "ipython",
    "version": 3
   },
   "file_extension": ".py",
   "mimetype": "text/x-python",
   "name": "python",
   "nbconvert_exporter": "python",
   "pygments_lexer": "ipython3",
   "version": "3.8.8"
  }
 },
 "nbformat": 4,
 "nbformat_minor": 5
}
